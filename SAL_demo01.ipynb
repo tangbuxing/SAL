{
 "cells": [
  {
   "cell_type": "markdown",
   "metadata": {},
   "source": [
    "# SAL(结构、强度、尺度)概述\n",
    "---------------\n",
    "<font face=\"黑体\" color=Black size=5>\n",
    "<br>•1，目标的识别和配对<br> \n",
    "<br>•2，目标的检验评分<br>  \n",
    "<br>主要调用函数为saller。<br> \n",
    "\n",
    "</font>"
   ]
  },
  {
   "cell_type": "markdown",
   "metadata": {},
   "source": [
    "## 参数说明\n",
    "--------------\n",
    "<font face=\"黑体\" color=Blue size=3>**look_SAL = saller(grd_features)**</font>"
   ]
  },
  {
   "cell_type": "markdown",
   "metadata": {},
   "source": [
    "|参数|说明|备注|\n",
    "|:---|:--:|:---|\n",
    "|**<font face=\"黑体\" color=Blue size=5>grd_features</font>**|经过平滑和阈值提取后的观测场和预报场的单个或者多个目标||"
   ]
  },
  {
   "cell_type": "markdown",
   "metadata": {},
   "source": [
    "## 调用示例"
   ]
  },
  {
   "cell_type": "code",
   "execution_count": null,
   "metadata": {},
   "outputs": [],
   "source": [
    "look_SAL = saller(grd_features)"
   ]
  },
  {
   "cell_type": "markdown",
   "metadata": {},
   "source": [
    "## 计算结果\n",
    "--------------------------------------------"
   ]
  },
  {
   "cell_type": "markdown",
   "metadata": {},
   "source": [
    "|变量|说明|备注|\n",
    "|:---|:--:|:---|\n",
    "|**<font face=\"黑体\" color=Blue size=5>S</font>**|结构误差|反映的是各目标质量分布的不均匀性，如果质量分布均匀则为1。|\n",
    "|**<font face=\"黑体\" color=Blue size=5>A</font>**|强度误差|反映目标的平均强度。值越小越好，最小为0，取值可正可负。|\n",
    "|**<font face=\"黑体\" color=Blue size=5>L</font>**|尺度(距离)误差L1,L2之和|L越小越好，最小为0。|\n",
    "|**<font face=\"黑体\" color=Blue size=5>L1/L2</font>**|尺度(距离)误差| |\n",
    "|**<font face=\"黑体\" color=Blue size=5>L1_alt</font>**|L1分量的可选择分量| |"
   ]
  },
  {
   "cell_type": "code",
   "execution_count": null,
   "metadata": {},
   "outputs": [],
   "source": []
  }
 ],
 "metadata": {
  "kernelspec": {
   "display_name": "Python 3",
   "language": "python",
   "name": "python3"
  },
  "language_info": {
   "codemirror_mode": {
    "name": "ipython",
    "version": 3
   },
   "file_extension": ".py",
   "mimetype": "text/x-python",
   "name": "python",
   "nbconvert_exporter": "python",
   "pygments_lexer": "ipython3",
   "version": "3.8.5"
  },
  "toc": {
   "base_numbering": 1,
   "nav_menu": {},
   "number_sections": true,
   "sideBar": true,
   "skip_h1_title": false,
   "title_cell": "Table of Contents",
   "title_sidebar": "Contents",
   "toc_cell": false,
   "toc_position": {},
   "toc_section_display": true,
   "toc_window_display": false
  },
  "varInspector": {
   "cols": {
    "lenName": 16,
    "lenType": 16,
    "lenVar": 40
   },
   "kernels_config": {
    "python": {
     "delete_cmd_postfix": "",
     "delete_cmd_prefix": "del ",
     "library": "var_list.py",
     "varRefreshCmd": "print(var_dic_list())"
    },
    "r": {
     "delete_cmd_postfix": ") ",
     "delete_cmd_prefix": "rm(",
     "library": "var_list.r",
     "varRefreshCmd": "cat(var_dic_list()) "
    }
   },
   "types_to_exclude": [
    "module",
    "function",
    "builtin_function_or_method",
    "instance",
    "_Feature"
   ],
   "window_display": false
  }
 },
 "nbformat": 4,
 "nbformat_minor": 4
}
